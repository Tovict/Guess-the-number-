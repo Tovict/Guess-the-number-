{
 "cells": [
  {
   "cell_type": "code",
   "execution_count": 16,
   "id": "cf66db7e",
   "metadata": {},
   "outputs": [],
   "source": [
    "#Write a program where the computer randomly generates a number between 0 and 20. \n",
    "#The user needs to guess what the number is.\n",
    "#If the user guesses wrong, tell them their guess is either too high, or too low.\n",
    "\n",
    "import random\n",
    "def user_guess(num):\n",
    "    ran_number= random.randint(0,20)\n",
    "    print(\"The random number generated is\",ran_number)\n",
    "    if ran_number > num:\n",
    "        print(\"Your guess is too low\")\n",
    "    elif ran_number < num:\n",
    "        print(\"Your guess is too high\")\n",
    "    else:\n",
    "        print(\"You are a genius\")\n",
    "    "
   ]
  },
  {
   "cell_type": "code",
   "execution_count": 17,
   "id": "54d8c4f2",
   "metadata": {},
   "outputs": [
    {
     "name": "stdout",
     "output_type": "stream",
     "text": [
      "The random number generated is 9\n",
      "You are a genius\n"
     ]
    }
   ],
   "source": [
    "user_guess(9)"
   ]
  },
  {
   "cell_type": "code",
   "execution_count": 18,
   "id": "98dc5d17",
   "metadata": {},
   "outputs": [
    {
     "name": "stdout",
     "output_type": "stream",
     "text": [
      "The random number generated is 8\n",
      "Your guess is too high\n"
     ]
    }
   ],
   "source": [
    "user_guess(10)"
   ]
  },
  {
   "cell_type": "code",
   "execution_count": 19,
   "id": "c6eec9ec",
   "metadata": {},
   "outputs": [
    {
     "name": "stdout",
     "output_type": "stream",
     "text": [
      "The random number generated is 20\n",
      "You are a genius\n"
     ]
    }
   ],
   "source": [
    "user_guess(20)"
   ]
  },
  {
   "cell_type": "code",
   "execution_count": null,
   "id": "babdc39c",
   "metadata": {},
   "outputs": [],
   "source": []
  },
  {
   "cell_type": "code",
   "execution_count": null,
   "id": "4ace6b86",
   "metadata": {},
   "outputs": [],
   "source": []
  }
 ],
 "metadata": {
  "kernelspec": {
   "display_name": "Python 3",
   "language": "python",
   "name": "python3"
  },
  "language_info": {
   "codemirror_mode": {
    "name": "ipython",
    "version": 3
   },
   "file_extension": ".py",
   "mimetype": "text/x-python",
   "name": "python",
   "nbconvert_exporter": "python",
   "pygments_lexer": "ipython3",
   "version": "3.8.8"
  }
 },
 "nbformat": 4,
 "nbformat_minor": 5
}
